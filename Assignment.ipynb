{
 "cells": [
  {
   "cell_type": "code",
   "execution_count": 3,
   "id": "9f0b4fdd",
   "metadata": {},
   "outputs": [
    {
     "name": "stdout",
     "output_type": "stream",
     "text": [
      "60\n"
     ]
    }
   ],
   "source": [
    "def find_smallest_multiple(n):\n",
    "    if n == 1:\n",
    "        return 1\n",
    "    x = n\n",
    "    while True:\n",
    "        ok = True\n",
    "        for i in range(1, n + 1):\n",
    "            if x % i != 0:\n",
    "                ok = False\n",
    "                break\n",
    "        if ok:\n",
    "            return x\n",
    "        x += 1\n",
    "\n",
    "print(find_smallest_multiple(5))  \n"
   ]
  },
  {
   "cell_type": "code",
   "execution_count": 4,
   "id": "8104d798",
   "metadata": {},
   "outputs": [
    {
     "name": "stdout",
     "output_type": "stream",
     "text": [
      "1 \n",
      "False\n"
     ]
    }
   ],
   "source": [
    "def cubesum(num):\n",
    "    s = 0\n",
    "    while num > 0:\n",
    "        d = num % 10\n",
    "        s += d ** 3\n",
    "        num //= 10\n",
    "    return s\n",
    "\n",
    "def isArmstrong(num):\n",
    "    return num == cubesum(num)\n",
    "\n",
    "def PrintArmstrong(n):\n",
    "    for i in range(1, n + 1):\n",
    "        if isArmstrong(i):\n",
    "            print(i, end=' ')\n",
    "\n",
    "PrintArmstrong(50)\n",
    "print()\n",
    "print(isArmstrong(121))\n"
   ]
  },
  {
   "cell_type": "code",
   "execution_count": 5,
   "id": "0a096a3d",
   "metadata": {},
   "outputs": [
    {
     "name": "stdout",
     "output_type": "stream",
     "text": [
      "20 30\n"
     ]
    }
   ],
   "source": [
    "\n",
    "a = 10 + 5 * 2   \n",
    "b = (10 + 5) * 2 \n",
    "print(a, b)\n"
   ]
  },
  {
   "cell_type": "code",
   "execution_count": 6,
   "id": "dde24ac3",
   "metadata": {},
   "outputs": [
    {
     "name": "stdout",
     "output_type": "stream",
     "text": [
      "Binary: 101\n",
      "Octal: 5\n",
      "Hexadecimal: 5\n"
     ]
    }
   ],
   "source": [
    "num = int(input(\"Enter a decimal number: \"))\n",
    "\n",
    "\n",
    "n = num\n",
    "binary = \"\"\n",
    "while n > 0:\n",
    "    binary = str(n % 2) + binary\n",
    "    n //= 2\n",
    "\n",
    "\n",
    "n = num\n",
    "octal = \"\"\n",
    "while n > 0:\n",
    "    octal = str(n % 8) + octal\n",
    "    n //= 8\n",
    "\n",
    "\n",
    "n = num\n",
    "hex_digits = \"0123456789ABCDEF\"\n",
    "hexa = \"\"\n",
    "while n > 0:\n",
    "    hexa = hex_digits[n % 16] + hexa\n",
    "    n //= 16\n",
    "\n",
    "print(\"Binary:\", binary)\n",
    "print(\"Octal:\", octal)\n",
    "print(\"Hexadecimal:\", hexa)\n"
   ]
  },
  {
   "cell_type": "code",
   "execution_count": null,
   "id": "220620a0",
   "metadata": {},
   "outputs": [],
   "source": []
  },
  {
   "cell_type": "code",
   "execution_count": 7,
   "id": "80792e3a",
   "metadata": {},
   "outputs": [
    {
     "name": "stdout",
     "output_type": "stream",
     "text": [
      "[1, 4, 9, 16, 25, 36, 49, 64, 81, 100, 121, 144, 169, 196, 225, 256, 289, 324, 361, 400, 441, 484, 529, 576, 625, 676, 729, 784, 841, 900]\n"
     ]
    }
   ],
   "source": [
    "def squares():\n",
    "    lst = []\n",
    "    for i in range(1, 31):\n",
    "        lst.append(i ** 2)\n",
    "    print(lst)\n",
    "\n",
    "squares()\n"
   ]
  },
  {
   "cell_type": "code",
   "execution_count": 9,
   "id": "0561929d",
   "metadata": {},
   "outputs": [
    {
     "name": "stdout",
     "output_type": "stream",
     "text": [
      "Vowels: 3\n",
      "Consonants: 3\n",
      "Digits: 0\n",
      "Special Characters: 0\n"
     ]
    }
   ],
   "source": [
    "s = input(\"Enter a sentence: \")\n",
    "\n",
    "v = c = d = sp = 0\n",
    "vowels = \"AEIOUaeiou\"\n",
    "\n",
    "for ch in s:\n",
    "   \n",
    "    if '0' <= ch <= '9':\n",
    "        d += 1\n",
    "    \n",
    "    elif ('A' <= ch <= 'Z') or ('a' <= ch <= 'z'):\n",
    "        if ch in vowels:\n",
    "            v += 1\n",
    "        else:\n",
    "            c += 1\n",
    "    \n",
    "    elif ch == ' ':\n",
    "        pass\n",
    "   \n",
    "    else:\n",
    "        sp += 1\n",
    "\n",
    "print(\"Vowels:\", v)\n",
    "print(\"Consonants:\", c)\n",
    "print(\"Digits:\", d)\n",
    "print(\"Special Characters:\", sp)\n"
   ]
  },
  {
   "cell_type": "code",
   "execution_count": 10,
   "id": "08e30529",
   "metadata": {},
   "outputs": [
    {
     "name": "stdout",
     "output_type": "stream",
     "text": [
      "Highest marks: Sneha 95\n",
      "Lowest marks: Ravi 78\n"
     ]
    }
   ],
   "source": [
    "students = {\n",
    "    \"Amit\": 85,\n",
    "    \"Neha\": 92,\n",
    "    \"Ravi\": 78,\n",
    "    \"Sneha\": 95,\n",
    "    \"Rahul\": 88\n",
    "}\n",
    "\n",
    "high_name = \"\"\n",
    "low_name = \"\"\n",
    "high_marks = -1\n",
    "low_marks = 101\n",
    "\n",
    "for name in students:\n",
    "    marks = students[name]\n",
    "    if marks > high_marks:\n",
    "        high_marks = marks\n",
    "        high_name = name\n",
    "    if marks < low_marks:\n",
    "        low_marks = marks\n",
    "        low_name = name\n",
    "\n",
    "print(\"Highest marks:\", high_name, high_marks)\n",
    "print(\"Lowest marks:\", low_name, low_marks)\n"
   ]
  }
 ],
 "metadata": {
  "kernelspec": {
   "display_name": "Python 3",
   "language": "python",
   "name": "python3"
  },
  "language_info": {
   "codemirror_mode": {
    "name": "ipython",
    "version": 3
   },
   "file_extension": ".py",
   "mimetype": "text/x-python",
   "name": "python",
   "nbconvert_exporter": "python",
   "pygments_lexer": "ipython3",
   "version": "3.13.7"
  }
 },
 "nbformat": 4,
 "nbformat_minor": 5
}
