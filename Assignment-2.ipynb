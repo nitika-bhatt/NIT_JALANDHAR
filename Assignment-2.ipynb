{
 "cells": [
  {
   "cell_type": "code",
   "execution_count": 1,
   "id": "42b9148b",
   "metadata": {},
   "outputs": [
    {
     "name": "stdout",
     "output_type": "stream",
     "text": [
      "Positive\n"
     ]
    }
   ],
   "source": [
    "#1. Positive or Negative Write a program to check whether a given number is positive, negative, or zero. (2)\n",
    "num = int(input(\"Enter a number: \"))\n",
    "if num > 0:\n",
    "    print(\"Positive\")\n",
    "elif num < 0:\n",
    "    print(\"Negative\")\n",
    "else:\n",
    "    print(\"Zero\")"
   ]
  },
  {
   "cell_type": "code",
   "execution_count": 2,
   "id": "2d9ecfb1",
   "metadata": {},
   "outputs": [
    {
     "name": "stdout",
     "output_type": "stream",
     "text": [
      "Odd\n"
     ]
    }
   ],
   "source": [
    "#2. Even or Odd Write a program to check whether a given integer is even or odd. (2)\n",
    "num = int(input(\"Enter an integer: \"))\n",
    "if num % 2 == 0:\n",
    "    print(\"Even\")\n",
    "else:\n",
    "    print(\"Odd\")\n"
   ]
  },
  {
   "cell_type": "code",
   "execution_count": 4,
   "id": "18704a9b",
   "metadata": {},
   "outputs": [
    {
     "name": "stdout",
     "output_type": "stream",
     "text": [
      "b is larger\n"
     ]
    }
   ],
   "source": [
    "#3. Largest of Two Numbers Write a program to input two numbers and print which one is larger. (2)\n",
    "a = int(input(\"Enter first number: \"))\n",
    "b = int(input(\"Enter second number: \"))\n",
    "if a > b:\n",
    "    print(\"a is larger\")\n",
    "elif b > a:\n",
    "    print(\"b is larger\")\n",
    "else:\n",
    "    print(\"Both are equal\")"
   ]
  },
  {
   "cell_type": "code",
   "execution_count": 5,
   "id": "207827a0",
   "metadata": {},
   "outputs": [
    {
     "name": "stdout",
     "output_type": "stream",
     "text": [
      "Absolute value: 5\n"
     ]
    }
   ],
   "source": [
    "#4. Absolute Value Write a program to find the absolute value of a given number without using the abs() function. (2)\n",
    "num = int(input(\"Enter a number: \"))\n",
    "if num < 0:\n",
    "    print(\"Absolute value:\", -num)\n",
    "else:\n",
    "    print(\"Absolute value:\", num)"
   ]
  },
  {
   "cell_type": "code",
   "execution_count": 6,
   "id": "8d72c9d0",
   "metadata": {},
   "outputs": [
    {
     "name": "stdout",
     "output_type": "stream",
     "text": [
      "The person is eligible to vote\n"
     ]
    }
   ],
   "source": [
    "#5. Eligibility for Voting Write a program to check whether a person is eligible to vote or not. (A person is eligible if their age is 18 or above). (2)\n",
    "age=int(input(\"Enter the age: \"))\n",
    "if(age>=18):\n",
    "    print(\"The person is eligible to vote\")\n",
    "else:\n",
    "    print(\"The person is not eligible to vote\")"
   ]
  },
  {
   "cell_type": "code",
   "execution_count": 8,
   "id": "b0ffe1ee",
   "metadata": {},
   "outputs": [
    {
     "name": "stdout",
     "output_type": "stream",
     "text": [
      "Not a Leap Year\n"
     ]
    }
   ],
   "source": [
    "#6. Leap Year Check Write a program to check whether a given year is a leap year or not. (Hint: A leap year is divisible by 4, but not by 100 unless also divisible by 400). (2)\n",
    "year = int(input(\"Enter a year: \"))\n",
    "if (year % 400 == 0) or (year % 4 == 0 and year % 100 != 0):\n",
    "    print(\"Leap Year\")\n",
    "else:\n",
    "    print(\"Not a Leap Year\")"
   ]
  },
  {
   "cell_type": "code",
   "execution_count": 9,
   "id": "4131fcc8",
   "metadata": {},
   "outputs": [
    {
     "name": "stdout",
     "output_type": "stream",
     "text": [
      "Pass\n"
     ]
    }
   ],
   "source": [
    "#7. Grade Calculation Write a program that takes marks as input and prints: - 'Pass' if marks are 40 or above - 'Fail' if marks are less than 40 (2)\n",
    "marks = int(input(\"Enter marks: \"))\n",
    "if marks >= 40:\n",
    "    print(\"Pass\")\n",
    "else:\n",
    "    print(\"Fail\")"
   ]
  },
  {
   "cell_type": "code",
   "execution_count": 10,
   "id": "4521de41",
   "metadata": {},
   "outputs": [
    {
     "name": "stdout",
     "output_type": "stream",
     "text": [
      "Not a multiple of 5\n"
     ]
    }
   ],
   "source": [
    "#8. Multiple of 5 Write a program to check whether a given number is a multiple of 5. (2)\n",
    "num = int(input(\"Enter a number: \"))\n",
    "if num % 5 == 0:\n",
    "    print(\"Multiple of 5\")\n",
    "else:\n",
    "    print(\"Not a multiple of 5\")"
   ]
  },
  {
   "cell_type": "code",
   "execution_count": 11,
   "id": "7b0dc992",
   "metadata": {},
   "outputs": [
    {
     "name": "stdout",
     "output_type": "stream",
     "text": [
      "Lowercase letter\n"
     ]
    }
   ],
   "source": [
    "#9. Character Case Check Write a program to input a character and check whether it is an uppercase letter, lowercase letter, or not a letter. (2)\n",
    "ch = input(\"Enter a character: \")\n",
    "if ch.isupper():\n",
    "    print(\"Uppercase letter\")\n",
    "elif ch.islower():\n",
    "    print(\"Lowercase letter\")\n",
    "else:\n",
    "    print(\"Not a letter\")"
   ]
  },
  {
   "cell_type": "code",
   "execution_count": 12,
   "id": "b9fd7eec",
   "metadata": {},
   "outputs": [
    {
     "name": "stdout",
     "output_type": "stream",
     "text": [
      "Final Bill Amount: 56.0\n"
     ]
    }
   ],
   "source": [
    "#10. Discount Calculator Write a program that calculates the discount: - If purchase amount is greater than or equal to 1000, apply a 10% discount. - Otherwise, no discount. Finally, print the final bill amount. (2)\n",
    "amount = float(input(\"Enter purchase amount: \"))\n",
    "if amount >= 1000:\n",
    "    discount = amount * 0.10\n",
    "    final_amount = amount - discount\n",
    "else:\n",
    "    final_amount = amount\n",
    "print(\"Final Bill Amount:\", final_amount)"
   ]
  },
  {
   "cell_type": "code",
   "execution_count": null,
   "id": "08caa0e9",
   "metadata": {},
   "outputs": [],
   "source": [
    "#wap to determine the character entered by the use\n",
    "char=input(\"Enter the character:\")\n",
    "if( char.isalpha()):\n",
    "    print(\"The character is alphabet\")\n",
    "elif(char.isdigit()):\n",
    "    print(\"The character is a digit\")\n",
    "elif(char.isspace()):\n",
    "    print(\"The character is a space\")\n",
    "else: \n",
    "    print(\"The character is a special character\")"
   ]
  },
  {
   "cell_type": "code",
   "execution_count": 5,
   "id": "2201dbdf",
   "metadata": {},
   "outputs": [
    {
     "name": "stdout",
     "output_type": "stream",
     "text": [
      "The person is not eligible to vote, needs 13 years more to get eligible for voting\n"
     ]
    }
   ],
   "source": [
    "#WAP to check if a person is eligible to vote or not if he is not eligible enter the years are left for him to vote\n",
    "agee=int(input(\"Enter the age: \"))\n",
    "if(agee>=18):\n",
    "    print(\"The person is eligible to vote\")\n",
    "else:\n",
    "    count=18-agee\n",
    "    print(\"The person is not eligible to vote, needs\", count, \"years more to get eligible for voting\")"
   ]
  },
  {
   "cell_type": "code",
   "execution_count": 7,
   "id": "3a2485a0",
   "metadata": {},
   "outputs": [
    {
     "name": "stdout",
     "output_type": "stream",
     "text": [
      "Second is greater than the first\n"
     ]
    }
   ],
   "source": [
    "#wap to find the larger of two numbers\n",
    "first=int(input(\"Enter the first number\"))\n",
    "second=int(input(\"Enter the second number\"))\n",
    "print(\"First is greater than second\" if first>second else \"Second is greater than the first\")"
   ]
  },
  {
   "cell_type": "code",
   "execution_count": 9,
   "id": "d4d88987",
   "metadata": {},
   "outputs": [
    {
     "name": "stdout",
     "output_type": "stream",
     "text": [
      "g\n"
     ]
    }
   ],
   "source": [
    "#wap to enter any character if the entered character is in lowercase convert it to the uppencase and vice versa\n",
    "character=input(\"Enter the character\")\n",
    "if(character>'a' and character<'z'):\n",
    "    print(character.upper())\n",
    "else:\n",
    "    print(character.lower())"
   ]
  },
  {
   "cell_type": "code",
   "execution_count": null,
   "id": "9cd38415",
   "metadata": {},
   "outputs": [],
   "source": [
    "#####Wap to determine whether the input is vowel or not\n",
    "word=input(\"Enter the string\")\n",
    "for i in range(word):\n",
    "    if(word[i]=='a' or word[i]=='e' or word[i]=='i' or word[i]=='o' or word[i]=='u' or word[i]=='A' or word[i]=='E' or word[i]=='I' or word[i]=='O' or 0r000U'):\n",
    "    "
   ]
  },
  {
   "cell_type": "code",
   "execution_count": null,
   "id": "1209c019",
   "metadata": {},
   "outputs": [
    {
     "name": "stdout",
     "output_type": "stream",
     "text": [
      "The word is an lower case: \n"
     ]
    }
   ],
   "source": []
  }
 ],
 "metadata": {
  "kernelspec": {
   "display_name": "Python 3",
   "language": "python",
   "name": "python3"
  },
  "language_info": {
   "codemirror_mode": {
    "name": "ipython",
    "version": 3
   },
   "file_extension": ".py",
   "mimetype": "text/x-python",
   "name": "python",
   "nbconvert_exporter": "python",
   "pygments_lexer": "ipython3",
   "version": "3.13.7"
  }
 },
 "nbformat": 4,
 "nbformat_minor": 5
}
