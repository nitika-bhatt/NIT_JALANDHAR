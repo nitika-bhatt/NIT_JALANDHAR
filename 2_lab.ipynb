{
 "cells": [
  {
   "cell_type": "code",
   "execution_count": 31,
   "id": "27c80f60",
   "metadata": {},
   "outputs": [],
   "source": [
    "#print(\"Good Morning\n",
    "     # \"what is your name?\"\n",
    "    #  Bye\") this code will produce error since there is an unterminated string"
   ]
  },
  {
   "cell_type": "code",
   "execution_count": 32,
   "id": "60bce663",
   "metadata": {},
   "outputs": [
    {
     "name": "stdout",
     "output_type": "stream",
     "text": [
      "GOODMORNING\n",
      "11\n",
      "4\n",
      "7\n"
     ]
    }
   ],
   "source": [
    "a='GOOD'\n",
    "b='MORNING'\n",
    "c=a+b\n",
    "print(c)\n",
    "print(len(c))\n",
    "print(len(a))\n",
    "print(len(b))"
   ]
  },
  {
   "cell_type": "code",
   "execution_count": 7,
   "id": "e51aea49",
   "metadata": {},
   "outputs": [
    {
     "name": "stdout",
     "output_type": "stream",
     "text": [
      "Good Morning what is your name? Bye!\n"
     ]
    }
   ],
   "source": [
    "print(\"Good Morning\"\n",
    "      \" what is your name?\"\n",
    "      \" Bye!\")"
   ]
  },
  {
   "cell_type": "code",
   "execution_count": null,
   "id": "50088d0e",
   "metadata": {},
   "outputs": [],
   "source": [
    "#-----------------OPERATIONS IN STRING----------------------\n",
    "#1. CONCATENATION\n",
    "#2. SLICING\n",
    "#3. MULTIPLICATION\n",
    "#STRINGS ARE IMMUTABLE: ONCE THEY HAVE BEEN CREATED THEY CAN NOT BE CHANGED"
   ]
  },
  {
   "cell_type": "code",
   "execution_count": 15,
   "id": "267d6877",
   "metadata": {},
   "outputs": [
    {
     "name": "stdout",
     "output_type": "stream",
     "text": [
      "Good Morning\n",
      "Good + Morning\n",
      "Good  3.5\n",
      "Good + Morning\n",
      "1234\n"
     ]
    }
   ],
   "source": [
    "#For CONCATENATION USE + \n",
    "print(\"Good\" + \" Morning\")\n",
    "print(\"Good \" '+' \" Morning\") # '+' IS A STRING ONLY\n",
    "print(\"Good \" + \" 3.5\")\n",
    "#print(\"Good \" + 3.5) #will produce error can only concatenate str (not \"float\") to str\n",
    "print(\"Good \" '+' \" Morning\")\n",
    "print(\"1\" + \"2\" + \"3\" + \"4\") #will print 1234\n",
    "#print(\"Good\" + Morning) #will produce error since, morning is not in \"\""
   ]
  },
  {
   "cell_type": "code",
   "execution_count": 20,
   "id": "72a4da32",
   "metadata": {},
   "outputs": [
    {
     "name": "stdout",
     "output_type": "stream",
     "text": [
      "Good Good Good Good Good \n"
     ]
    }
   ],
   "source": [
    "#MULTIPLICATION OR STRING REPETITION USE *\n",
    "print(\"Good \" * 5)\n",
    "#print(\"Good\" * \"5\") #TypeError: can't multiply sequence by non-int of type 'str'\n",
    "#print(\"Good\" * 5.0) #TypeError: can't multiply sequence by non-int of type 'float'\n"
   ]
  },
  {
   "cell_type": "code",
   "execution_count": 25,
   "id": "27ac2e8a",
   "metadata": {},
   "outputs": [
    {
     "name": "stdout",
     "output_type": "stream",
     "text": [
      "i am Nitika\n",
      "i\n",
      "m Niti\n",
      " Nitika\n",
      "a\n",
      "i am \n"
     ]
    }
   ],
   "source": [
    "#SLICING [x:y], [:x], [y:], [-1]\n",
    "str=\"i am Nitika\"\n",
    "print(str) #will print the whole string\n",
    "print(str[0]) #will print i\n",
    "print(str[3:9]) #will print from m till i\n",
    "print(str[4:]) #will print from space before nitika till end\n",
    "print(str[-1]) #will print the last element\n",
    "print(str[:5]) #will print from starting till 5-1 index element"
   ]
  },
  {
   "cell_type": "code",
   "execution_count": 28,
   "id": "0b7572f1",
   "metadata": {},
   "outputs": [
    {
     "name": "stdout",
     "output_type": "stream",
     "text": [
      "What's your name?\n"
     ]
    }
   ],
   "source": [
    "#UNICODE STRING -U OR u\n",
    "#It is a standard way of writing international text. Python has enable code text editor with preficx u OR U. Python allows you to specify code text.\n",
    "print(\"What's your name?\")\n",
    "#print('what's your name?') #SyntaxError: unterminated string literal (detected at line 4)"
   ]
  },
  {
   "cell_type": "code",
   "execution_count": 29,
   "id": "20bfc785",
   "metadata": {},
   "outputs": [
    {
     "name": "stdout",
     "output_type": "stream",
     "text": [
      "what's your name?\n"
     ]
    }
   ],
   "source": [
    "#How to remove this problem, add \\\n",
    "print('what\\'s your name?')"
   ]
  },
  {
   "cell_type": "code",
   "execution_count": 35,
   "id": "65d3c615",
   "metadata": {},
   "outputs": [
    {
     "name": "stdout",
     "output_type": "stream",
     "text": [
      "The boy replies, \n",
      " \"My name is Aditya\n",
      "The boy replies, \t \"My name is Aditya\n"
     ]
    }
   ],
   "source": [
    "#Escape Sequence\n",
    "#ITS A COMBINATION OF CHARACTERS THAT IS TRANSLATED IN ANOTHER CHARACTER OR SEQUENCE OF CHARACTERS THAT MAY BE DIFFICULT OR IMPOSSIBLE TO REPRESENT DIRECTLY.\n",
    "#print(\"The boy replies, \"My name is Aditya.\") #SyntaxError: unterminated string literal (detected at line 3)\n",
    "print(\"The boy replies, \\n \\\"My name is Aditya\")\n",
    "print(\"The boy replies, \\t \\\"My name is Aditya\")\n",
    "# \\when specified at the end of the string or line, it indicates that the string is continue"
   ]
  },
  {
   "cell_type": "code",
   "execution_count": 38,
   "id": "28554e4a",
   "metadata": {},
   "outputs": [
    {
     "name": "stdout",
     "output_type": "stream",
     "text": [
      "\\\n",
      "'\n",
      "\"\n",
      "Hello \t World\n",
      "Hello \n",
      " World\n",
      ".\n",
      ".\n",
      "\n"
     ]
    }
   ],
   "source": [
    "#Escape SEQUENCE EXAMPLES\n",
    "print(\"\\\\\") #will print \\\n",
    "print(\"\\'\") #will print '\n",
    "print(\"\\\"\") #will print \"\n",
    "print(\"Hello \\t World\") #Hello    World\n",
    "print(\"Hello \\n World\") #Hello \n",
    "                         #World\n",
    "#print(\"\\o56\")\n",
    "print(\"\\056\") #will print .\n",
    "print(\"\\x2E\") #will print .\n",
    "print(\"\\x87\") #will print ?"
   ]
  },
  {
   "cell_type": "code",
   "execution_count": null,
   "id": "f70f953b",
   "metadata": {},
   "outputs": [],
   "source": [
    "######################Practical################################"
   ]
  },
  {
   "cell_type": "code",
   "execution_count": 39,
   "id": "c762d586",
   "metadata": {},
   "outputs": [
    {
     "name": "stdout",
     "output_type": "stream",
     "text": [
      "27\n"
     ]
    }
   ],
   "source": [
    "#Binary to Decimal\n",
    "a='11011'\n",
    "decimal=int(a,2)\n",
    "print(decimal)"
   ]
  },
  {
   "cell_type": "code",
   "execution_count": 40,
   "id": "d1eaf7ef",
   "metadata": {},
   "outputs": [
    {
     "name": "stdout",
     "output_type": "stream",
     "text": [
      "0o63\n"
     ]
    }
   ],
   "source": [
    "#Decimal to Octal\n",
    "Decimal = 51\n",
    "Octal=oct(Decimal)\n",
    "print(Octal)"
   ]
  },
  {
   "cell_type": "code",
   "execution_count": 43,
   "id": "e3eb2602",
   "metadata": {},
   "outputs": [
    {
     "name": "stdout",
     "output_type": "stream",
     "text": [
      "240\n"
     ]
    }
   ],
   "source": [
    "#Octal to decimal\n",
    "octal = '360'\n",
    "dec=int(octal,8)\n",
    "print(dec)"
   ]
  },
  {
   "cell_type": "code",
   "execution_count": 44,
   "id": "15a8c223",
   "metadata": {},
   "outputs": [
    {
     "name": "stdout",
     "output_type": "stream",
     "text": [
      "0x33\n"
     ]
    }
   ],
   "source": [
    "#Decimal to Hexadecimal\n",
    "D=51\n",
    "hexa=hex(D)\n",
    "print(hexa)"
   ]
  },
  {
   "cell_type": "code",
   "execution_count": null,
   "id": "375a30fc",
   "metadata": {},
   "outputs": [
    {
     "name": "stdout",
     "output_type": "stream",
     "text": [
      "0\n",
      "14\n",
      "-11\n",
      "14\n",
      "2\n",
      "40\n"
     ]
    }
   ],
   "source": [
    "#BITWISE OPERATORS\n",
    "#AND, OR, NOT\n",
    "x=10 #1010\n",
    "y=4  #100 \n",
    "print(x&y) #AND\n",
    "print(x|y) #OR #1110\n",
    "print(~x) #NOT  ~x = -(x+1)\n",
    "print(x^y) #XOR #0001 stay 0 even if both the variable have 1\n",
    "print(x>>2) #RIGHT SHIFT\n",
    "print(x<<2) #LEFT SHIFT\n"
   ]
  },
  {
   "cell_type": "code",
   "execution_count": 47,
   "id": "0f54fe85",
   "metadata": {},
   "outputs": [
    {
     "name": "stdout",
     "output_type": "stream",
     "text": [
      "x is y False\n",
      "x is z True\n"
     ]
    }
   ],
   "source": [
    "#special operator\n",
    "x=[1,2]\n",
    "y=[1,2]\n",
    "print(\"x is y\", x is y)\n",
    "z=x\n",
    "print(\"x is z\", x is z)"
   ]
  },
  {
   "cell_type": "code",
   "execution_count": 48,
   "id": "d9936e05",
   "metadata": {},
   "outputs": [
    {
     "name": "stdout",
     "output_type": "stream",
     "text": [
      "True\n",
      "True\n",
      "False\n"
     ]
    }
   ],
   "source": [
    "#identity operator\n",
    "x1=5\n",
    "y1=5\n",
    "x2='HELLO'\n",
    "y2='HELLO'\n",
    "x3=[1,2,3]\n",
    "y3=[1,2,3]\n",
    "print(x1 is y1)\n",
    "print(x2 is y2)\n",
    "print(x3 is y3)"
   ]
  },
  {
   "cell_type": "code",
   "execution_count": null,
   "id": "a65b1f32",
   "metadata": {},
   "outputs": [
    {
     "name": "stdout",
     "output_type": "stream",
     "text": [
      "False\n",
      "False\n",
      "True\n"
     ]
    }
   ],
   "source": [
    "#Membership operator\n",
    "#in , not in\n",
    "Message='xyz'\n",
    "print(\"h\" in Message)\n",
    "print(\"helloe\" in Message)\n",
    "print(\"h\" not in Message)\n"
   ]
  },
  {
   "cell_type": "code",
   "execution_count": 53,
   "id": "d7c97b35",
   "metadata": {},
   "outputs": [
    {
     "name": "stdout",
     "output_type": "stream",
     "text": [
      "True\n",
      "False\n"
     ]
    }
   ],
   "source": [
    "dict= {1:'a',\n",
    "       2: 'b'}\n",
    "print(1 in dict)\n",
    "print(b in dict)"
   ]
  },
  {
   "cell_type": "code",
   "execution_count": 54,
   "id": "588c9f06",
   "metadata": {},
   "outputs": [
    {
     "name": "stdout",
     "output_type": "stream",
     "text": [
      "10\n"
     ]
    }
   ],
   "source": [
    "#Ternary operator\n",
    "a,b=10,20\n",
    "min=a if a<b else b \n",
    "print(min)"
   ]
  },
  {
   "cell_type": "code",
   "execution_count": 59,
   "id": "fc1e4ada",
   "metadata": {},
   "outputs": [
    {
     "name": "stdout",
     "output_type": "stream",
     "text": [
      "positive\n"
     ]
    }
   ],
   "source": [
    "x=5 #put 0.5, 0, -5\n",
    "result = \"positive\" if x>0 else \"negative\"\n",
    "print(result)"
   ]
  },
  {
   "cell_type": "code",
   "execution_count": 60,
   "id": "af055d05",
   "metadata": {},
   "outputs": [
    {
     "name": "stdout",
     "output_type": "stream",
     "text": [
      "610\n"
     ]
    }
   ],
   "source": [
    "exp=10+20*30\n",
    "print(exp)"
   ]
  },
  {
   "cell_type": "code",
   "execution_count": 61,
   "id": "d78335e0",
   "metadata": {},
   "outputs": [
    {
     "name": "stdout",
     "output_type": "stream",
     "text": [
      "180.0\n",
      "100.0\n"
     ]
    }
   ],
   "source": [
    "exprr=(40+20)*30/10\n",
    "ex=40+(20*30)/10\n",
    "print(exprr)\n",
    "print(ex)"
   ]
  },
  {
   "cell_type": "code",
   "execution_count": 62,
   "id": "4ff9e0ca",
   "metadata": {},
   "outputs": [
    {
     "data": {
      "text/plain": [
       "True"
      ]
     },
     "execution_count": 62,
     "metadata": {},
     "output_type": "execute_result"
    }
   ],
   "source": [
    "False == False or True "
   ]
  },
  {
   "cell_type": "code",
   "execution_count": 63,
   "id": "80528151",
   "metadata": {},
   "outputs": [
    {
     "data": {
      "text/plain": [
       "False"
      ]
     },
     "execution_count": 63,
     "metadata": {},
     "output_type": "execute_result"
    }
   ],
   "source": [
    "False == (False  or True)"
   ]
  }
 ],
 "metadata": {
  "kernelspec": {
   "display_name": "Python 3",
   "language": "python",
   "name": "python3"
  },
  "language_info": {
   "codemirror_mode": {
    "name": "ipython",
    "version": 3
   },
   "file_extension": ".py",
   "mimetype": "text/x-python",
   "name": "python",
   "nbconvert_exporter": "python",
   "pygments_lexer": "ipython3",
   "version": "3.13.7"
  }
 },
 "nbformat": 4,
 "nbformat_minor": 5
}
