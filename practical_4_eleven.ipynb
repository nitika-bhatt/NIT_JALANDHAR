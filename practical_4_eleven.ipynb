{
 "cells": [
  {
   "cell_type": "code",
   "execution_count": null,
   "id": "6829a8c9",
   "metadata": {},
   "outputs": [],
   "source": [
    "#WAP whether a number is negative positive or number is zero\n",
    "num = int(input(\"Enter a number: \"))\n",
    "if num > 0:\n",
    "    print(\"Positive\")\n",
    "elif num < 0:\n",
    "    print(\"Negative\")\n",
    "else:\n",
    "    print(\"Zero\")\n"
   ]
  },
  {
   "cell_type": "code",
   "execution_count": 4,
   "id": "9188eb3b",
   "metadata": {},
   "outputs": [
    {
     "name": "stdout",
     "output_type": "stream",
     "text": [
      "The result contains a vowel\n"
     ]
    }
   ],
   "source": [
    "#Wap to determine whether the input contains a vowel or not using if else\n",
    "word=input(\"Enter the word\")\n",
    "\n",
    "for i in range(len(word)):\n",
    "    if(word[i]=='a' or word[i]=='e' or word[i]=='i' or word[i]=='o' or word[i]=='u' or word[i]=='A' or word[i]=='E' or word[i]=='I' or word[i]=='O' or word[i]=='U'):\n",
    "        result=True\n",
    "        break\n",
    "    else:\n",
    "        result=False\n",
    "if(True):\n",
    "    print(\"The result contains a vowel\")\n",
    "else:\n",
    "    print(\"The result does not include a vowel\")"
   ]
  },
  {
   "cell_type": "code",
   "execution_count": 13,
   "id": "dcce3379",
   "metadata": {},
   "outputs": [
    {
     "name": "stdout",
     "output_type": "stream",
     "text": [
      "The second number is the largest\n"
     ]
    }
   ],
   "source": [
    "#largest of three numbers\n",
    "X=int(input(\"Enter the first number: \"))\n",
    "Y=int(input(\"Enter the second number: \"))\n",
    "Z=int(input(\"Enter the third number: \"))\n",
    "if(X>Y and Y>Z):\n",
    "    print(\"The first number is the largest\")\n",
    "if(Y>X and Y>Z):\n",
    "    print(\"The second number is the largest\")\n",
    "else:\n",
    "    print(\"The third number is the largest\")\n"
   ]
  },
  {
   "cell_type": "code",
   "execution_count": null,
   "id": "7b6f6707",
   "metadata": {},
   "outputs": [
    {
     "name": "stdout",
     "output_type": "stream",
     "text": [
      "The descending order is:  6 5 4\n"
     ]
    }
   ],
   "source": [
    "#descending\n",
    "X=int(input(\"Enter the first number: \"))\n",
    "Y=int(input(\"Enter the second number: \"))\n",
    "Z=int(input(\"Enter the third number: \"))\n",
    "if(X>Y and X>Z):\n",
    "    if(Y>Z):\n",
    "        print(\"The descending order is: \", X, Y,Z)\n",
    "    else:\n",
    "        print(\"The descending order is: \", X, Z, Y)\n",
    "if(Y>X and Y>Z):\n",
    "    if(X>Z):\n",
    "        print(\"The descending order is: \", Y, X,Z)\n",
    "    else:\n",
    "        print(\"The descending order is: \", Y, Z, X)\n",
    "if(Z>Y and Z>X):\n",
    "    if(Y>X):\n",
    "        print(\"The descending order is: \", Z, Y,X)\n",
    "    else:\n",
    "        print(\"The descending order is: \", Z, X, Y)"
   ]
  },
  {
   "cell_type": "code",
   "execution_count": 17,
   "id": "1a357ad8",
   "metadata": {},
   "outputs": [
    {
     "name": "stdout",
     "output_type": "stream",
     "text": [
      "The Ascending order is:  4 5 6\n"
     ]
    }
   ],
   "source": [
    "#ascending\n",
    "X=int(input(\"Enter the first number: \"))\n",
    "Y=int(input(\"Enter the second number: \"))\n",
    "Z=int(input(\"Enter the third number: \"))\n",
    "if(X>Y and X>Z):\n",
    "    if(Y>Z):\n",
    "        print(\"The Ascending order is: \", Z, Y,X)\n",
    "    else:\n",
    "        print(\"The Ascending order is: \", Y, Z, X)\n",
    "if(Y>X and Y>Z):\n",
    "    if(X>Z):\n",
    "        print(\"The Ascending order is: \", Z, X,Y)\n",
    "    else:\n",
    "        print(\"The Ascending order is: \", X, Z, Y)\n",
    "if(Z>Y and Z>X):\n",
    "    if(Y>X):\n",
    "        print(\"The Ascending order is: \", X, Y, Z)\n",
    "    else:\n",
    "        print(\"The Ascending order is: \", Y, X, Z)"
   ]
  },
  {
   "cell_type": "code",
   "execution_count": 18,
   "id": "c5088dbb",
   "metadata": {},
   "outputs": [
    {
     "name": "stdout",
     "output_type": "stream",
     "text": [
      "The absolute value of the number is:  9\n"
     ]
    }
   ],
   "source": [
    "#absolute\n",
    "X=int(input(\"Enter the number: \"))\n",
    "if(X<0):\n",
    "    print(\"The absolute value of the number is: \", (X*(-1)))"
   ]
  },
  {
   "cell_type": "code",
   "execution_count": 24,
   "id": "540ee27f",
   "metadata": {},
   "outputs": [
    {
     "name": "stdout",
     "output_type": "stream",
     "text": [
      "55\n"
     ]
    }
   ],
   "source": [
    "#sum of 10 num usig while\n",
    "X=int(input(\"Enter the number: \"))\n",
    "i=1\n",
    "sum=0\n",
    "while(i<=10):\n",
    "    sum+=i\n",
    "    i+=1\n",
    "print(sum)"
   ]
  },
  {
   "cell_type": "code",
   "execution_count": 27,
   "id": "c585c8e6",
   "metadata": {},
   "outputs": [
    {
     "name": "stdout",
     "output_type": "stream",
     "text": [
      "The number is armstrong\n"
     ]
    }
   ],
   "source": [
    "#armstrom\n",
    "n=int(input(\"Enter the number\"))\n",
    "new=n\n",
    "sum=0\n",
    "while(n>0):\n",
    "    digit=n%10\n",
    "    sum+=(digit**3)\n",
    "    n=n//10\n",
    "if(sum==new):\n",
    "    print(\"The number is armstrong\")\n",
    "else:\n",
    "    print(\"The number is not armstrong\")"
   ]
  },
  {
   "cell_type": "code",
   "execution_count": 32,
   "id": "077f39af",
   "metadata": {},
   "outputs": [
    {
     "name": "stdout",
     "output_type": "stream",
     "text": [
      "Binary: 1010"
     ]
    }
   ],
   "source": [
    "# Decimal to Binary\n",
    "dec = int(input(\"Enter the number: \"))\n",
    "binary = []\n",
    "\n",
    "if dec == 0:\n",
    "    print(\"0\")\n",
    "else:\n",
    "    while dec != 0:\n",
    "        remainder = dec % 2\n",
    "        if remainder == 0:\n",
    "            binary.append(0)\n",
    "        else:\n",
    "            binary.append(1)\n",
    "        dec = dec // 2   # must be inside while loop\n",
    "\n",
    "    binary.reverse()      # reverse to get correct order\n",
    "    print(\"Binary:\", end=\" \")\n",
    "    for bit in binary:\n",
    "        print(bit, end=\"\")\n"
   ]
  },
  {
   "cell_type": "code",
   "execution_count": null,
   "id": "76ba8531",
   "metadata": {},
   "outputs": [],
   "source": [
    "#reverse of a number\n",
    "n=int(input(\"Enter the number\"))\n",
    "rev=0\n",
    "while(i>0):\n",
    "    remainder=n%10\n",
    "    rev=rev*10 + remainder\n",
    "    n=n/10\n",
    "print(\"The reverse is: \",)"
   ]
  },
  {
   "cell_type": "code",
   "execution_count": 5,
   "id": "db2f2aaa",
   "metadata": {},
   "outputs": [
    {
     "name": "stdout",
     "output_type": "stream",
     "text": [
      "The word is an lower case\n"
     ]
    }
   ],
   "source": [
    "#number or character, if character check if it is a upper or lowercase\n",
    "single=input(\"Enter the character: \")\n",
    "if(single.isdigit()):\n",
    "    print(\"The number is digit\")\n",
    "else: \n",
    "    if(single.isupper()):\n",
    "        print(\"The word is an upper case\")\n",
    "    else:\n",
    "        print(\"The word is an lower case\")\n"
   ]
  },
  {
   "cell_type": "code",
   "execution_count": 5,
   "id": "d128eb9b",
   "metadata": {},
   "outputs": [
    {
     "name": "stdout",
     "output_type": "stream",
     "text": [
      "120\n"
     ]
    }
   ],
   "source": [
    "number=int(input())\n",
    "fact=1\n",
    "for i in range(1,number+1):\n",
    "    fact=fact*i\n",
    "print(fact)"
   ]
  },
  {
   "cell_type": "code",
   "execution_count": null,
   "id": "ddd06e22",
   "metadata": {},
   "outputs": [
    {
     "name": "stdout",
     "output_type": "stream",
     "text": [
      "5 * 1 = 5\n",
      "5 * 2 = 10\n",
      "5 * 3 = 15\n",
      "5 * 4 = 20\n",
      "5 * 5 = 25\n",
      "5 * 6 = 30\n",
      "5 * 7 = 35\n",
      "5 * 8 = 40\n",
      "5 * 9 = 45\n",
      "5 * 10 = 50\n"
     ]
    }
   ],
   "source": [
    "number=int(input())\n",
    "\n",
    "for i in range(1,11):\n",
    "    print(number, \"*\", i,\"=\", number*i)\n"
   ]
  },
  {
   "cell_type": "code",
   "execution_count": 7,
   "id": "6021f630",
   "metadata": {},
   "outputs": [
    {
     "name": "stdout",
     "output_type": "stream",
     "text": [
      "1900 is a leap year\n",
      "1904 is a leap year\n",
      "1908 is a leap year\n",
      "1912 is a leap year\n",
      "1916 is a leap year\n",
      "1920 is a leap year\n",
      "1924 is a leap year\n",
      "1928 is a leap year\n",
      "1932 is a leap year\n",
      "1936 is a leap year\n",
      "1940 is a leap year\n",
      "1944 is a leap year\n",
      "1948 is a leap year\n",
      "1952 is a leap year\n",
      "1956 is a leap year\n",
      "1960 is a leap year\n",
      "1964 is a leap year\n",
      "1968 is a leap year\n",
      "1972 is a leap year\n",
      "1976 is a leap year\n",
      "1980 is a leap year\n",
      "1984 is a leap year\n",
      "1988 is a leap year\n",
      "1992 is a leap year\n",
      "1996 is a leap year\n",
      "2000 is a leap year\n",
      "2004 is a leap year\n",
      "2008 is a leap year\n",
      "2012 is a leap year\n",
      "2016 is a leap year\n",
      "2020 is a leap year\n",
      "2024 is a leap year\n",
      "2028 is a leap year\n",
      "2032 is a leap year\n",
      "2036 is a leap year\n",
      "2040 is a leap year\n",
      "2044 is a leap year\n",
      "2048 is a leap year\n",
      "2052 is a leap year\n",
      "2056 is a leap year\n",
      "2060 is a leap year\n",
      "2064 is a leap year\n",
      "2068 is a leap year\n",
      "2072 is a leap year\n",
      "2076 is a leap year\n",
      "2080 is a leap year\n",
      "2084 is a leap year\n",
      "2088 is a leap year\n",
      "2092 is a leap year\n",
      "2096 is a leap year\n",
      "2100 is a leap year\n"
     ]
    }
   ],
   "source": [
    "#wap that prints all the leap from range 1900-2101\n",
    "\n",
    "for i in range(1900, 2102):\n",
    "    if(i%4==0):\n",
    "        print(i, \"is a leap year\")"
   ]
  },
  {
   "cell_type": "code",
   "execution_count": 11,
   "id": "de666ef4",
   "metadata": {},
   "outputs": [
    {
     "name": "stdout",
     "output_type": "stream",
     "text": [
      "2.283333333333333\n"
     ]
    }
   ],
   "source": [
    "#wap to sum a series\n",
    "n=int(input())\n",
    "sum=0\n",
    "for i in range (1,n+1):\n",
    "    sum+=(1/i)\n",
    "print(sum)"
   ]
  },
  {
   "cell_type": "code",
   "execution_count": 13,
   "id": "8cadc588",
   "metadata": {},
   "outputs": [
    {
     "name": "stdout",
     "output_type": "stream",
     "text": [
      "225\n"
     ]
    }
   ],
   "source": [
    "#wap to calculate the sum of n\n",
    "num=int(input())\n",
    "sum=0\n",
    "for i in range(1,n+1):\n",
    "    sum+=(i**3)\n",
    "print(sum)\n"
   ]
  }
 ],
 "metadata": {
  "kernelspec": {
   "display_name": "Python 3",
   "language": "python",
   "name": "python3"
  },
  "language_info": {
   "codemirror_mode": {
    "name": "ipython",
    "version": 3
   },
   "file_extension": ".py",
   "mimetype": "text/x-python",
   "name": "python",
   "nbconvert_exporter": "python",
   "pygments_lexer": "ipython3",
   "version": "3.13.7"
  }
 },
 "nbformat": 4,
 "nbformat_minor": 5
}
