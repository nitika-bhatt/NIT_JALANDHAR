{
 "cells": [
  {
   "cell_type": "code",
   "execution_count": 65,
   "id": "f953f6bf",
   "metadata": {},
   "outputs": [
    {
     "name": "stdout",
     "output_type": "stream",
     "text": [
      "HELLO\n"
     ]
    }
   ],
   "source": [
    "# print hello \n",
    "print(\"HELLO\")"
   ]
  },
  {
   "cell_type": "code",
   "execution_count": 66,
   "id": "ce042e30",
   "metadata": {},
   "outputs": [],
   "source": [
    "# AIRTHMETIC OPERATORS\n",
    "# adiition\n",
    "a=13\n",
    "b=6\n",
    "c=a+b\n"
   ]
  },
  {
   "cell_type": "code",
   "execution_count": 67,
   "id": "61dfb402",
   "metadata": {},
   "outputs": [
    {
     "name": "stdout",
     "output_type": "stream",
     "text": [
      "SUB= 7\n"
     ]
    }
   ],
   "source": [
    "# subtraction\n",
    "c1=a-b\n",
    "print(\"SUB=\",c1)"
   ]
  },
  {
   "cell_type": "code",
   "execution_count": 68,
   "id": "ecf07886",
   "metadata": {},
   "outputs": [
    {
     "name": "stdout",
     "output_type": "stream",
     "text": [
      "MUL= 78\n"
     ]
    }
   ],
   "source": [
    "# multiplication\n",
    "c2=a*b\n",
    "print(\"MUL=\",c2)"
   ]
  },
  {
   "cell_type": "code",
   "execution_count": 69,
   "id": "44fcc825",
   "metadata": {},
   "outputs": [
    {
     "name": "stdout",
     "output_type": "stream",
     "text": [
      "DIV= 2.1666666666666665\n"
     ]
    }
   ],
   "source": [
    "# divison\n",
    "c3=a/b\n",
    "print(\"DIV=\",c3)"
   ]
  },
  {
   "cell_type": "code",
   "execution_count": 70,
   "id": "76825359",
   "metadata": {},
   "outputs": [
    {
     "name": "stdout",
     "output_type": "stream",
     "text": [
      "exponential power of  13 is 4826809\n"
     ]
    }
   ],
   "source": [
    "#exponential\n",
    "c4=a**b\n",
    "print(\"exponential power of \" ,a,\"is\",c4)"
   ]
  },
  {
   "cell_type": "code",
   "execution_count": 71,
   "id": "b1a17217",
   "metadata": {},
   "outputs": [
    {
     "name": "stdout",
     "output_type": "stream",
     "text": [
      "floor value  2\n"
     ]
    }
   ],
   "source": [
    "c5=a//b\n",
    "print(\"floor value \",c5)\n",
    "#floor division evaluate result to the nearest number in case no. is negetive it move towards -ve infinity"
   ]
  },
  {
   "cell_type": "code",
   "execution_count": 72,
   "id": "1e6dddbe",
   "metadata": {},
   "outputs": [
    {
     "name": "stdout",
     "output_type": "stream",
     "text": [
      "floor value  3\n",
      "-4\n"
     ]
    }
   ],
   "source": [
    "a1=7\n",
    "b1=2\n",
    "c6=a1//b1\n",
    "print(\"floor value \",c6)\n",
    "a2=-7\n",
    "b2=2\n",
    "c7=a2//b2\n",
    "print(c7)"
   ]
  },
  {
   "cell_type": "code",
   "execution_count": 73,
   "id": "a278a4a6",
   "metadata": {},
   "outputs": [
    {
     "name": "stdout",
     "output_type": "stream",
     "text": [
      "0\n",
      "0.5\n",
      "1\n"
     ]
    }
   ],
   "source": [
    "# exponential power\n",
    "print(0**1)\n",
    "print(2**-1)\n",
    "print(7**0)"
   ]
  },
  {
   "cell_type": "code",
   "execution_count": 74,
   "id": "5ce7fc49",
   "metadata": {},
   "outputs": [
    {
     "name": "stdout",
     "output_type": "stream",
     "text": [
      "1\n"
     ]
    }
   ],
   "source": [
    "#modulus\n",
    "print(7%2)"
   ]
  },
  {
   "cell_type": "code",
   "execution_count": 75,
   "id": "55847f36",
   "metadata": {},
   "outputs": [
    {
     "name": "stdout",
     "output_type": "stream",
     "text": [
      "False\n",
      "True\n",
      "False\n",
      "True\n"
     ]
    }
   ],
   "source": [
    "# comparison operator\n",
    "x=3\n",
    "y=2\n",
    "print(x==y)\n",
    "print(x>y)\n",
    "print(x<y)\n",
    "print(x!=y)"
   ]
  },
  {
   "cell_type": "code",
   "execution_count": 76,
   "id": "8bf4b856",
   "metadata": {},
   "outputs": [
    {
     "name": "stdout",
     "output_type": "stream",
     "text": [
      "The value of x 10\n"
     ]
    }
   ],
   "source": [
    "#assignment operators\n",
    "x=10\n",
    "print(\"The value of x\",x)"
   ]
  },
  {
   "cell_type": "code",
   "execution_count": 77,
   "id": "95930b18",
   "metadata": {},
   "outputs": [
    {
     "name": "stdout",
     "output_type": "stream",
     "text": [
      "The value of x 13\n"
     ]
    }
   ],
   "source": [
    "x+=3\n",
    "print(\"The value of x\",x)"
   ]
  },
  {
   "cell_type": "code",
   "execution_count": 78,
   "id": "7feb54dd",
   "metadata": {},
   "outputs": [
    {
     "name": "stdout",
     "output_type": "stream",
     "text": [
      "The value of x= 10\n"
     ]
    }
   ],
   "source": [
    "x-=3\n",
    "print(\"The value of x=\",x)"
   ]
  },
  {
   "cell_type": "code",
   "execution_count": 79,
   "id": "b4df3f24",
   "metadata": {},
   "outputs": [
    {
     "name": "stdout",
     "output_type": "stream",
     "text": [
      "The value of x= 30\n"
     ]
    }
   ],
   "source": [
    "x*=3\n",
    "print(\"The value of x=\",x)"
   ]
  },
  {
   "cell_type": "code",
   "execution_count": 80,
   "id": "077e4ec8",
   "metadata": {},
   "outputs": [
    {
     "name": "stdout",
     "output_type": "stream",
     "text": [
      "The value of x= 2\n"
     ]
    }
   ],
   "source": [
    "x%=4\n",
    "print(\"The value of x=\",x)"
   ]
  },
  {
   "cell_type": "code",
   "execution_count": 81,
   "id": "52cf7990",
   "metadata": {},
   "outputs": [
    {
     "name": "stdout",
     "output_type": "stream",
     "text": [
      "The value of x= 1.0\n"
     ]
    }
   ],
   "source": [
    "x/=2\n",
    "print(\"The value of x=\",x)"
   ]
  },
  {
   "cell_type": "code",
   "execution_count": 85,
   "id": "12f908e5",
   "metadata": {},
   "outputs": [
    {
     "name": "stdout",
     "output_type": "stream",
     "text": [
      "The value of x= 0.0\n"
     ]
    }
   ],
   "source": [
    "x//=2\n",
    "print(\"The value of x=\",x)"
   ]
  },
  {
   "cell_type": "code",
   "execution_count": 91,
   "id": "ee3a36b1",
   "metadata": {},
   "outputs": [
    {
     "name": "stdout",
     "output_type": "stream",
     "text": [
      "13\n"
     ]
    }
   ],
   "source": [
    "# LOGICAL OPERATORS\n",
    "A=2\n",
    "B=13\n",
    "X=A and B\n",
    "print(X)"
   ]
  },
  {
   "cell_type": "code",
   "execution_count": null,
   "id": "be7678fc",
   "metadata": {},
   "outputs": [
    {
     "name": "stdout",
     "output_type": "stream",
     "text": [
      "while using or logical operator any one  condition from the both the condiution will be true\n"
     ]
    }
   ],
   "source": [
    "#using or with condition\n",
    "if(A<=2 or B<=10):\n",
    "  print(\"while using or logical operator any one  condition from the both the condition will be true\")\n"
   ]
  },
  {
   "cell_type": "code",
   "execution_count": 100,
   "id": "f18af523",
   "metadata": {},
   "outputs": [
    {
     "name": "stdout",
     "output_type": "stream",
     "text": [
      "16\n"
     ]
    }
   ],
   "source": [
    "A=16\n",
    "B=10\n",
    "X=A or B\n",
    "print(X)"
   ]
  },
  {
   "cell_type": "code",
   "execution_count": 103,
   "id": "fc0e2cfa",
   "metadata": {},
   "outputs": [
    {
     "name": "stdout",
     "output_type": "stream",
     "text": [
      "False\n",
      "using not operator it shows either the condition is true or false\n"
     ]
    }
   ],
   "source": [
    "A=16\n",
    "B=10\n",
    "c=True\n",
    "if(a>b):\n",
    "  print(not c)\n",
    "  print(\"using not operator it shows either the condition is true or false\")\n"
   ]
  },
  {
   "cell_type": "code",
   "execution_count": 104,
   "id": "6daa2dfc",
   "metadata": {},
   "outputs": [
    {
     "name": "stdout",
     "output_type": "stream",
     "text": [
      "while using and logical operator both the condiution will be true\n"
     ]
    }
   ],
   "source": [
    "if(A<=16 and B<=10):\n",
    "  print(\"while using and logical operator both the condiution will be true\")"
   ]
  }
 ],
 "metadata": {
  "kernelspec": {
   "display_name": "Python 3",
   "language": "python",
   "name": "python3"
  },
  "language_info": {
   "codemirror_mode": {
    "name": "ipython",
    "version": 3
   },
   "file_extension": ".py",
   "mimetype": "text/x-python",
   "name": "python",
   "nbconvert_exporter": "python",
   "pygments_lexer": "ipython3",
   "version": "3.13.7"
  }
 },
 "nbformat": 4,
 "nbformat_minor": 5
}
