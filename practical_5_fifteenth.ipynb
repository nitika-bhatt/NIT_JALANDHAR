{
 "cells": [
  {
   "cell_type": "code",
   "execution_count": null,
   "id": "9e69ed0e",
   "metadata": {},
   "outputs": [],
   "source": []
  },
  {
   "cell_type": "code",
   "execution_count": null,
   "id": "52955e0d",
   "metadata": {},
   "outputs": [],
   "source": [
    "#counter controlled loops\n",
    "#pre-test loopspost-test loops\n",
    "#condition controlled loops\n",
    "#pretest loops: the condition is tested before loop starts\n",
    "#post -test loops: the body of the loop is executed unconditionally for the first time\n",
    "#counter controlled: number of times the loop is executed is known in advance while in condition controlled number of times the loop is executed is not known in advance so it is a type of indefinite loop"
   ]
  },
  {
   "cell_type": "code",
   "execution_count": null,
   "id": "e1041a1b",
   "metadata": {},
   "outputs": [],
   "source": [
    "# l=0\n",
    "# while(l<10):\n",
    "\n"
   ]
  },
  {
   "cell_type": "code",
   "execution_count": null,
   "id": "974192ec",
   "metadata": {},
   "outputs": [],
   "source": [
    "# #counter controlled: \n",
    "# l=0\n",
    "# while(l<10):\n",
    "#     print(l, end=\" \")\n",
    "#     l+=1"
   ]
  },
  {
   "cell_type": "code",
   "execution_count": null,
   "id": "d36d746d",
   "metadata": {},
   "outputs": [],
   "source": [
    "# l=1\n",
    "# while(l>0):\n",
    "#     print(i, end=\"\")\n",
    "#     i=i+1\n",
    "#     if i==10:\n",
    "#         break"
   ]
  },
  {
   "cell_type": "code",
   "execution_count": null,
   "id": "aa6a349d",
   "metadata": {},
   "outputs": [],
   "source": [
    "#write a program to generate the calender of a month given the start_date and number of days\n",
    "from tabulate import tabulate\n",
    "n=input(\"Enter the first day of the month: \")\n",
    "for i in range(7):\n",
    "        print(tabulate(\"Sunday\", \"Monday\", \"Tuesday\", \"Wednesday\", \"Thursday\", \"Friday\", \"Saturday\"))\n",
    "    "
   ]
  },
  {
   "cell_type": "code",
   "execution_count": 9,
   "id": "7d6222d5",
   "metadata": {},
   "outputs": [
    {
     "name": "stdout",
     "output_type": "stream",
     "text": [
      "* * * * \n",
      "* * * * \n",
      "* * * * \n",
      "* * * * \n"
     ]
    }
   ],
   "source": [
    "n=int(input())\n",
    "for i in range(1, n+1):\n",
    "    for j in range(1, n+1):\n",
    "        print(\"*\", end=\" \")\n",
    "    print()"
   ]
  },
  {
   "cell_type": "code",
   "execution_count": 11,
   "id": "0f449a98",
   "metadata": {},
   "outputs": [
    {
     "name": "stdout",
     "output_type": "stream",
     "text": [
      "\n",
      "* \n",
      "* * \n",
      "* * * \n",
      "* * * * \n"
     ]
    }
   ],
   "source": [
    "n=int(input())\n",
    "for i in range(1, n+1):\n",
    "    for j in range(1, n-(n-i)):\n",
    "        print(\"*\", end=\" \")\n",
    "    print()"
   ]
  },
  {
   "cell_type": "code",
   "execution_count": 18,
   "id": "193748b8",
   "metadata": {},
   "outputs": [
    {
     "name": "stdout",
     "output_type": "stream",
     "text": [
      "* * * * * \n",
      "* * * * \n",
      "* * * \n",
      "* * \n",
      "* \n",
      "\n"
     ]
    }
   ],
   "source": [
    "n=int(input())\n",
    "for i in range(0, n+1):\n",
    "    for j in range(0, n-i):\n",
    "        print(\"*\", end=\" \")\n",
    "    print()"
   ]
  },
  {
   "cell_type": "code",
   "execution_count": null,
   "id": "908fcd3c",
   "metadata": {},
   "outputs": [
    {
     "name": "stdout",
     "output_type": "stream",
     "text": [
      "    1\n",
      "   12\n",
      "  123\n",
      " 1234\n",
      "12345\n"
     ]
    }
   ],
   "source": [
    "n=int(input())\n",
    "for i in range(1, n+1):\n",
    "    print(\" \"*(n-i), end=\"\")\n",
    "    for j in range(1, i+1):\n",
    "        print(j, end=\"\")\n",
    "    print()\n",
    "    "
   ]
  },
  {
   "cell_type": "code",
   "execution_count": 49,
   "id": "e2f85836",
   "metadata": {},
   "outputs": [
    {
     "name": "stdout",
     "output_type": "stream",
     "text": [
      "   1\n",
      "  121\n",
      " 12321\n",
      "1234321\n"
     ]
    }
   ],
   "source": [
    "n=int(input())\n",
    "for i in range(1, n+1):\n",
    "    print(\" \"*(n-i), end=\"\")\n",
    "    for j in range(1, i+1):\n",
    "        print(j, end=\"\")\n",
    "    for j in range(i-1, 0, -1):\n",
    "        print(j, end=\"\")\n",
    "    print()\n",
    "    "
   ]
  },
  {
   "cell_type": "code",
   "execution_count": 36,
   "id": "afd5f667",
   "metadata": {},
   "outputs": [
    {
     "name": "stdout",
     "output_type": "stream",
     "text": [
      "2.716666666666667\n"
     ]
    }
   ],
   "source": [
    "#wap in a python to sum the series\n",
    "#1//2+2/3+---+n/n+1\n",
    "n=int(input())\n",
    "sum=0\n",
    "for i in range (1,n+1):\n",
    "    sum+=(i/(i+1))\n",
    "print(sum)"
   ]
  },
  {
   "cell_type": "code",
   "execution_count": 39,
   "id": "9e6e4269",
   "metadata": {},
   "outputs": [
    {
     "name": "stdout",
     "output_type": "stream",
     "text": [
      "15.0\n"
     ]
    }
   ],
   "source": [
    "#wap in a python to sum the series\n",
    "#1//2+2/3+---+n/n+1\n",
    "n=int(input())\n",
    "sum=0\n",
    "for i in range (1,n+1):\n",
    "    sum+=((i**2)/(i))\n",
    "print(sum)"
   ]
  },
  {
   "cell_type": "code",
   "execution_count": 45,
   "id": "59abd834",
   "metadata": {},
   "outputs": [
    {
     "name": "stdout",
     "output_type": "stream",
     "text": [
      "[27, 29, 13]\n",
      "[66, 74, 34]\n",
      "[43, 51, 23]\n"
     ]
    }
   ],
   "source": [
    "#Perform matrix multiplication \n",
    "matrix_1=[[1, 2, 3],\n",
    "          [4, 5, 6], \n",
    "          [3, 4, 3]]\n",
    "matrix_2=[[4, 5, 3],\n",
    "          [4, 6, 2],\n",
    "          [5, 4, 2]]\n",
    "\n",
    "result=[[0,0,0],\n",
    "        [0,0,0],\n",
    "        [0,0,0]]\n",
    "sum=0\n",
    "if len(matrix_1[0]) == len(matrix_2):\n",
    "    for i in range(len(matrix_1)):\n",
    "        for j in range(len(matrix_2[0])):\n",
    "            for k in range(len(matrix_2)):\n",
    "                result[i][j]+= matrix_1[i][k] * matrix_2[k][j]\n",
    "                \n",
    "for r in result:\n",
    "    print(r)"
   ]
  },
  {
   "cell_type": "code",
   "execution_count": 46,
   "id": "2eb06910",
   "metadata": {},
   "outputs": [
    {
     "name": "stdout",
     "output_type": "stream",
     "text": [
      "[(0, 0), (0, 1), (0, 2)]\n",
      "[(1, 0), (1, 1), (1, 2)]\n",
      "[(2, 0), (2, 1), (2, 2)]\n",
      "[(3, 0), (3, 1), (3, 2)]\n"
     ]
    }
   ],
   "source": [
    "#wap to pring a grid 3*3\n",
    "n=int(input())\n",
    "for i in range(n):\n",
    "    row = []\n",
    "    for j in range(3):\n",
    "        row.append((i, j))\n",
    "    print(row)"
   ]
  },
  {
   "cell_type": "code",
   "execution_count": 53,
   "id": "a8504313",
   "metadata": {},
   "outputs": [
    {
     "name": "stdout",
     "output_type": "stream",
     "text": [
      "*\n",
      "**\n",
      "***\n",
      "****\n",
      "*****\n",
      "****\n",
      "***\n",
      "**\n",
      "*\n"
     ]
    }
   ],
   "source": [
    "n=int(input())\n",
    "\n",
    "for i in range(1, n):\n",
    "    print(\"*\" * i)\n",
    "for i in range(n, 0, -1):\n",
    "    print(\"*\" * i)"
   ]
  },
  {
   "cell_type": "code",
   "execution_count": 55,
   "id": "44dd4cad",
   "metadata": {},
   "outputs": [
    {
     "name": "stdout",
     "output_type": "stream",
     "text": [
      "red   apple\n",
      "big   banana\n",
      "tasty   cherry\n",
      "red   apple\n",
      "big   banana\n",
      "tasty   cherry\n",
      "red   apple\n",
      "big   banana\n",
      "tasty   cherry\n"
     ]
    }
   ],
   "source": [
    "objectives=[\"red\", \"big\", \"tasty\"]\n",
    "fruit=[\"apple\", \"banana\", \"cherry\"]\n",
    "n=len(objectives)\n",
    "for i in range (0, n):\n",
    "    for j in range(0,n):\n",
    "        print(objectives[j], \" \", fruit[j])"
   ]
  },
  {
   "cell_type": "code",
   "execution_count": null,
   "id": "c046783b",
   "metadata": {},
   "outputs": [],
   "source": []
  }
 ],
 "metadata": {
  "kernelspec": {
   "display_name": "Python 3",
   "language": "python",
   "name": "python3"
  },
  "language_info": {
   "codemirror_mode": {
    "name": "ipython",
    "version": 3
   },
   "file_extension": ".py",
   "mimetype": "text/x-python",
   "name": "python",
   "nbconvert_exporter": "python",
   "pygments_lexer": "ipython3",
   "version": "3.13.7"
  }
 },
 "nbformat": 4,
 "nbformat_minor": 5
}
