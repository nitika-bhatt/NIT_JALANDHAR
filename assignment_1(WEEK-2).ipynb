{
 "cells": [
  {
   "cell_type": "code",
   "execution_count": 2,
   "id": "5b34f718",
   "metadata": {},
   "outputs": [
    {
     "name": "stdout",
     "output_type": "stream",
     "text": [
      "******************** NITIKA BHATT - ASSIGNMENT-1 (WEEK-2) DATE: 04-09-2025 ********************\n"
     ]
    }
   ],
   "source": [
    "print(\"*\" * 20, \"NITIKA BHATT - ASSIGNMENT-1 (WEEK-2) DATE: 04-09-2025\", \"*\" * 20)"
   ]
  },
  {
   "cell_type": "code",
   "execution_count": 1,
   "id": "48bd4aae",
   "metadata": {},
   "outputs": [
    {
     "name": "stdout",
     "output_type": "stream",
     "text": [
      "5\n",
      "[(2, 1), (1, 2), (2, 3), (4, 4), (2, 5)]\n",
      "The time complexity of this program is O(n^2) which is not an optimised solution for the long lists, therefore we can use an in-builT function - sorted\n",
      "@@@@@@@@@@@@@@@@@@@@@@@@@ BY USING SORTED @@@@@@@@@@@@@@@@@@@@@@@@@@@@@@@@@\n",
      "[(2, 1), (1, 2), (2, 3), (4, 4), (2, 5)]\n"
     ]
    }
   ],
   "source": [
    "#Q1- Write a python program to get a list, sorted in increasing order by the last element in each tuple from a given list of non-empty tuples.\n",
    "# Sample list: [(2,5),(1,2),(4,4),(2,3),(2,1)]\n",
    "import ast\n",
    "list=ast.literal_eval(input(\"Enter the Sample list_1: \"))\n",
    "print(len(list))\n",
    "for i in range(len(list)):\n",
    "    for j in range(0, ((len(list))-i-1)):\n",
    "        if list[j][1]>=list[j+1][1]:\n",
    "            list[j],list[j+1]= list[j+1],list[j]\n",
    "        \n",
    "print(list)\n",
    "\n",
    "print(\"The time complexity of this program is O(n^2) which is not an optimised solution for the long lists, therefore we can use an in-builT function - sorted\")\n",
    "\n",
    "print(\"@@@@@@@@@@@@@@@@@@@@@@@@@ BY USING SORTED @@@@@@@@@@@@@@@@@@@@@@@@@@@@@@@@@\")\n",
    "l= ast.literal_eval(input(\"Enter the Sample list_2: \"))\n",
    "def second_element(x):\n",
    "    return x[1]\n",
    "sorted_list=sorted(l, key=second_element)\n",
    "print(sorted_list)\n"
   ]
  },
  {
   "cell_type": "code",
   "execution_count": null,
   "id": "9c551b40",
   "metadata": {},
   "outputs": [
    {
     "name": "stdout",
     "output_type": "stream",
     "text": [
      "resta$t\n"
     ]
    }
   ],
   "source": [
    "#Q2- WAP to get a string from a given string where all occurences of its first char have been changed to '$', except the first character itself\n",
    "str=input(\"Enter the string: \")\n",
    "new_str=str.replace(str[0],\"$\")\n",
    "result=str[0]+new_str[1:]\n",
    "print(result)"
   ]
  },
  {
   "cell_type": "code",
   "execution_count": null,
   "id": "02892d29",
   "metadata": {},
   "outputs": [
    {
     "name": "stdout",
     "output_type": "stream",
     "text": [
      "the person is good bad\n"
     ]
    }
   ],
   "source": [
    "#Q3- WAP to find the first appearance of the substring 'not' and 'poor' from a given string, if 'bad' follows the 'poor, replace the whole 'not'....'poor' substring with 'good'. return the resulting string\n",
    "string_1 = input(\"Enter the string: \")\n",
    "\n",
    "not_index = string_1.find(\"not\")\n",
    "\n",
    "if not_index == -1:\n",
    "    modified = string_1\n",
    "else:\n",
    "    poor_index = string_1.find(\"poor\", not_index)\n",
    "    if poor_index == -1:\n",
    "        modified = string_1\n",
    "    else:\n",
    "        bad_index = string_1.find(\"bad\", poor_index)\n",
    "        if bad_index == -1:\n",
    "            modified = string_1\n",
    "        else:\n",
    "            modified = string_1[:not_index] + \"good\" + string_1[poor_index+4:]\n",
    "\n",
    "print(modified)\n"
   ]
  },
  {
   "cell_type": "code",
   "execution_count": null,
   "id": "7d68e7c1",
   "metadata": {},
   "outputs": [
    {
     "name": "stdout",
     "output_type": "stream",
     "text": [
      "[('rice', 1), ('banana', 3), ('apple', 4), ('tree', 5)]\n"
     ]
    }
   ],
   "source": [
    "#Q4- Write a python program to sort a dictionary by value.\n",
    "dict={'banana':3,\n",
    "      'rice':1,\n",
    "      'apple':4,\n",
    "      'tree':5}\n",
    "def sor(x):\n",
    "    return x[1]\n",
    "sorted_dictionary=sorted(dict.items(), key=sor)\n",
    "print(sorted_dictionary)"
   ]
  },
  {
   "cell_type": "code",
   "execution_count": null,
   "id": "8238a79b",
   "metadata": {},
   "outputs": [
    {
     "name": "stdout",
     "output_type": "stream",
     "text": [
      "{0: 'a', 1: 'b', 2: 'c', '4': 'h'}\n"
     ]
    }
   ],
   "source": [
    "#Q5- Write a python program to add key to a dictionary.\n",
    "data={0:'a',\n",
    "      1:'b',\n",
    "      2:'c'}\n",
    "    \n",
    "keyy=input(\"Enter the key: \")\n",
    "valuee=input(\"Enter the valuee: \")\n",
    "\n",
    "data[keyy]=valuee \n",
    "print(data) \n"
   ]
  }
 ],
 "metadata": {
  "kernelspec": {
   "display_name": "Python 3",
   "language": "python",
   "name": "python3"
  },
  "language_info": {
   "codemirror_mode": {
    "name": "ipython",
    "version": 3
   },
   "file_extension": ".py",
   "mimetype": "text/x-python",
   "name": "python",
   "nbconvert_exporter": "python",
   "pygments_lexer": "ipython3",
   "version": "3.13.7"
  }
 },
 "nbformat": 4,
 "nbformat_minor": 5
}
