{
 "cells": [
  {
   "cell_type": "code",
   "execution_count": null,
   "id": "6ccba09c",
   "metadata": {},
   "outputs": [],
   "source": []
  },
  {
   "cell_type": "code",
   "execution_count": null,
   "id": "dfa4017a",
   "metadata": {},
   "outputs": [
    {
     "name": "stdout",
     "output_type": "stream",
     "text": [
      "73 79 83 89 97 \n",
      "71 17 19 23 29 \n",
      "67 13 2 3 31 \n",
      "61 11 7 5 37 \n",
      "59 53 47 43 41 \n"
     ]
    }
   ],
   "source": [
    "# Q1) Generate all prime numbers less than 100.Print them in a spiral format (like a clockwise\n",
    "# square spiral) of minimal size that fits all primes.\n",
    "n = int(input(\"Enter the number: \"))\n",
    "new = []\n",
    "\n",
    "for i in range(2, n):\n",
    "    prime_flag = True\n",
    "    for j in range(2, i):\n",
    "        if i % j == 0:\n",
    "            prime_flag = False\n",
    "            break\n",
    "    if prime_flag:\n",
    "        new.append(i)\n",
    "\n",
    "count = 0\n",
    "for i in new:\n",
    "    count += 1\n",
    "\n",
    "g = 1\n",
    "while g * g < count:\n",
    "    g += 1\n",
    "\n",
    "grid = []\n",
    "for i in range(g):\n",
    "    row = []\n",
    "    for j in range(g):\n",
    "        row.append(0)\n",
    "    grid.append(row)\n",
    "\n",
    "row = g // 2\n",
    "col = g // 2\n",
    "directions = [[0,1],[1,0],[0,-1],[-1,0]]\n",
    "dir_idx = 0\n",
    "steps = 1\n",
    "prime_index = 0\n",
    "\n",
    "while prime_index < count:\n",
    "    for _ in range(2):\n",
    "        for _ in range(steps):\n",
    "            if prime_index >= count:\n",
    "                break\n",
    "            if 0 <= row < g and 0 <= col < g:\n",
    "                grid[row][col] = new[prime_index]\n",
    "                prime_index += 1\n",
    "            dr = directions[dir_idx][0]\n",
    "            dc = directions[dir_idx][1]\n",
    "            row += dr\n",
    "            col += dc\n",
    "        dir_idx = (dir_idx + 1) % 4\n",
    "    steps += 1\n",
    "\n",
    "for i in range(g):\n",
    "    for j in range(g):\n",
    "        if grid[i][j] != 0:\n",
    "            print(grid[i][j], end=' ')\n",
    "        else:\n",
    "            print(\"  \", end=' ')\n",
    "    print()\n"
   ]
  },
  {
   "cell_type": "code",
   "execution_count": 8,
   "id": "78acb259",
   "metadata": {},
   "outputs": [
    {
     "name": "stdout",
     "output_type": "stream",
     "text": [
      "\n",
      "Text-based graph of hourly views:\n",
      "Hour 01: *** (15 views)\n",
      "Hour 02: *** (17 views)\n",
      "Hour 03: ***** (25 views)\n",
      "Hour 04:  (3 views)\n",
      "Hour 05: * (6 views)\n"
     ]
    }
   ],
   "source": [
    "#Q2) You are a data analyst at a streaming platform, managing user interactions, analytics,\n",
    "# and daily operations. Use a for loop to create a text-based graph of hourly views. For\n",
    "# example, use * to represent every 5 views.\n",
    "n = int(input(\"Enter number of hours: \"))\n",
    "hourly_views = [0] * n\n",
    "\n",
    "for hour in range(n):\n",
    "    views = int(input(f\"Enter views for hour {hour+1}: \"))\n",
    "    hourly_views[hour] = views\n",
    "\n",
    "print(\"\\nText-based graph of hourly views:\")\n",
    "for hour in range(n):\n",
    "    views = hourly_views[hour]\n",
    "    stars = views // 5\n",
    "    print(f\"Hour {hour+1:02d}: \", end=\"\")\n",
    "    for i in range(stars):\n",
    "        print(\"*\", end=\"\")\n",
    "    print(f\" ({views} views)\")\n"
   ]
  },
  {
   "cell_type": "code",
   "execution_count": null,
   "id": "bd1d719d",
   "metadata": {},
   "outputs": [],
   "source": [
    "# Each video watched generates revenue based on ad impressions:\n",
    "#  First 10 views: $0.50 per view\n",
    "#  Next 20 views: $0.30 per view\n",
    "#  Remaining views: $0.10 per view\n",
    "# You are given hourly views for the day. Calculate total daily revenue.import random\n",
    "import randomn=24\n",
    "hourly_views =[random.randint(0,50) for i in range(n)]\n",
    "\n",
    "print(\"Hourly views:\")\n",
    "for hour in range(n):\n",
    "    print(f\"Hour {hour+1:02d}: {hourly_views[hour]} views\")\n",
    "\n",
    "total_revenue = 0.0\n",
    "\n",
    "for views in hourly_views:\n",
    "    revenue = 0\n",
    "    if views <= 10:\n",
    "        revenue = views * 0.50\n",
    "    elif views <= 30:\n",
    "        revenue = 10 * 0.50 + (views - 10) * 0.30\n",
    "    else:\n",
    "        revenue = 10 * 0.50 + 20 * 0.30 + (views - 30) * 0.10\n",
    "    total_revenue += revenue\n",
    "\n",
    "print(f\"Total daily revenue: ${total_revenue:.2f}\")\n"
   ]
  }
 ],
 "metadata": {
  "kernelspec": {
   "display_name": "Python 3",
   "language": "python",
   "name": "python3"
  },
  "language_info": {
   "codemirror_mode": {
    "name": "ipython",
    "version": 3
   },
   "file_extension": ".py",
   "mimetype": "text/x-python",
   "name": "python",
   "nbconvert_exporter": "python",
   "pygments_lexer": "ipython3",
   "version": "3.13.7"
  }
 },
 "nbformat": 4,
 "nbformat_minor": 5
}
